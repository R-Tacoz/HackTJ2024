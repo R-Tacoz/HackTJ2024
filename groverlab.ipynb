{
 "cells": [
  {
   "cell_type": "code",
   "execution_count": 10,
   "id": "e2e31354-649b-4db4-a377-381f02652fee",
   "metadata": {
    "tags": []
   },
   "outputs": [
    {
     "ename": "ModuleNotFoundError",
     "evalue": "No module named 'qiskit'",
     "output_type": "error",
     "traceback": [
      "\u001b[1;31m---------------------------------------------------------------------------\u001b[0m",
      "\u001b[1;31mModuleNotFoundError\u001b[0m                       Traceback (most recent call last)",
      "Cell \u001b[1;32mIn[10], line 2\u001b[0m\n\u001b[0;32m      1\u001b[0m \u001b[38;5;66;03m# Importing standard Qiskit libraries\u001b[39;00m\n\u001b[1;32m----> 2\u001b[0m \u001b[38;5;28;01mfrom\u001b[39;00m \u001b[38;5;21;01mqiskit\u001b[39;00m \u001b[38;5;28;01mimport\u001b[39;00m QuantumCircuit, transpile\n\u001b[0;32m      3\u001b[0m \u001b[38;5;28;01mfrom\u001b[39;00m \u001b[38;5;21;01mqiskit\u001b[39;00m\u001b[38;5;21;01m.\u001b[39;00m\u001b[38;5;21;01mtools\u001b[39;00m\u001b[38;5;21;01m.\u001b[39;00m\u001b[38;5;21;01mjupyter\u001b[39;00m \u001b[38;5;28;01mimport\u001b[39;00m \u001b[38;5;241m*\u001b[39m\n\u001b[0;32m      4\u001b[0m \u001b[38;5;28;01mfrom\u001b[39;00m \u001b[38;5;21;01mqiskit\u001b[39;00m\u001b[38;5;21;01m.\u001b[39;00m\u001b[38;5;21;01mvisualization\u001b[39;00m \u001b[38;5;28;01mimport\u001b[39;00m \u001b[38;5;241m*\u001b[39m\n",
      "\u001b[1;31mModuleNotFoundError\u001b[0m: No module named 'qiskit'"
     ]
    }
   ],
   "source": [
    "# Importing standard Qiskit libraries\n",
    "from qiskit import QuantumCircuit, transpile\n",
    "from qiskit.tools.jupyter import *\n",
    "from qiskit.visualization import *\n",
    "from ibm_quantum_widgets import *\n",
    "\n",
    "# qiskit-ibmq-provider has been deprecated.\n",
    "# Please see the Migration Guides in https://ibm.biz/provider_migration_guide for more detail.\n",
    "from qiskit_ibm_runtime import QiskitRuntimeService, Sampler, Estimator, Session, Options\n",
    "\n",
    "from qiskit import IBMQ, Aer\n",
    "from qiskit_aer.primitives.sampler import Sampler\n",
    "\n",
    "# Loading your IBM Quantum account(s)\n",
    "service = QiskitRuntimeService(channel=\"ibm_quantum\")\n",
    "\n",
    "# Invoke a primitive. For more details see https://docs.quantum-computing.ibm.com/run/primitives\n",
    "# result = Sampler().run(circuits).result()\n",
    "\n",
    "\n",
    "\n",
    "#imports\n",
    "import random\n",
    "import numpy as np\n",
    "\n",
    "!pip install --upgrade pip\n",
    "!pip install tweedledum\n",
    "!pip install qiskit_algorithms\n",
    "\n",
    "from qiskit_algorithms import AmplificationProblem, Grover\n",
    "from qiskit.circuit.library import PhaseOracle\n",
    "from qiskit.primitives import BackendSampler\n",
    "from qiskit.tools.visualization import plot_histogram"
   ]
  },
  {
   "cell_type": "code",
   "execution_count": null,
   "id": "92ec2c37",
   "metadata": {},
   "outputs": [],
   "source": []
  },
  {
   "cell_type": "code",
   "execution_count": 8,
   "id": "202dc8df-dd70-475f-8ebf-62dd24733174",
   "metadata": {
    "tags": []
   },
   "outputs": [],
   "source": [
    "#find_sat method\n",
    "\n",
    "#This method reads information from a CNF file 'tempCNF.cnf' and runs Grover's \n",
    "#Algorithm The output is a dictionary 'results' that contains all of the boolean\n",
    "#states and their measurement outcomes.\n",
    "\n",
    "def find_sat():\n",
    "    oracle = PhaseOracle.from_dimacs_file('tempCNF.cnf')\n",
    "    problem = AmplificationProblem(oracle)\n",
    "    sampler = Sampler()\n",
    "    iterations= Grover.optimal_num_iterations(num_solutions=1, num_qubits=oracle.num_qubits)\n",
    "    grover=Grover(iterations=iterations, sampler=sampler)\n",
    "    result=grover.amplify(problem)\n",
    "    display(plot_histogram(result.circuit_results[0]))"
   ]
  },
  {
   "cell_type": "code",
   "execution_count": 8,
   "id": "8a851a5a-532d-4236-bba9-45db46ac04d7",
   "metadata": {
    "tags": []
   },
   "outputs": [
    {
     "name": "stdout",
     "output_type": "stream",
     "text": [
      "d:\\TJWork\\Quantum\n"
     ]
    }
   ],
   "source": [
    "import os\n",
    "print(os.getcwd())\n",
    "def generate_dimacs_cnf(n):\n",
    "     # Define the number of boolean variables\n",
    "    num_variables = 9\n",
    "    \n",
    "    # Write to the .cnf file\n",
    "    with open('tempCNF.cnf', 'w') as file:\n",
    "        # Write the header line\n",
    "        file.write(f'p cnf {num_variables} {n}\\n')\n",
    "\n",
    "        # Generate and write n random logical clauses\n",
    "        clauses = set()\n",
    "        while len(clauses) < n:\n",
    "            # Generate a random clause with three statements\n",
    "            clause = random.sample(range(1, num_variables + 1), 3)\n",
    "            \n",
    "            # Add negation with equal probability\n",
    "            clause = [i if random.choice([True, False]) else -i for i in clause]\n",
    "            \n",
    "            # Sort the clause to avoid permutations\n",
    "            clause.sort()\n",
    "            \n",
    "            # Check for tautology within the clause\n",
    "            if not any(-i in clause for i in clause):\n",
    "                # Convert the clause to a string and write to the file\n",
    "                file.write(' '.join(map(str, clause)) + ' 0\\n')\n",
    "                clauses.add(tuple(clause))"
   ]
  },
  {
   "cell_type": "code",
   "execution_count": 9,
   "id": "0069bf8d-d422-4b69-858c-a11144b3234a",
   "metadata": {
    "tags": []
   },
   "outputs": [
    {
     "ename": "NameError",
     "evalue": "name 'random' is not defined",
     "output_type": "error",
     "traceback": [
      "\u001b[1;31m---------------------------------------------------------------------------\u001b[0m",
      "\u001b[1;31mNameError\u001b[0m                                 Traceback (most recent call last)",
      "Cell \u001b[1;32mIn[9], line 1\u001b[0m\n\u001b[1;32m----> 1\u001b[0m generate_dimacs_cnf(\u001b[38;5;241m4\u001b[39m)\n",
      "Cell \u001b[1;32mIn[8], line 16\u001b[0m, in \u001b[0;36mgenerate_dimacs_cnf\u001b[1;34m(n)\u001b[0m\n\u001b[0;32m     13\u001b[0m clauses \u001b[38;5;241m=\u001b[39m \u001b[38;5;28mset\u001b[39m()\n\u001b[0;32m     14\u001b[0m \u001b[38;5;28;01mwhile\u001b[39;00m \u001b[38;5;28mlen\u001b[39m(clauses) \u001b[38;5;241m<\u001b[39m n:\n\u001b[0;32m     15\u001b[0m     \u001b[38;5;66;03m# Generate a random clause with three statements\u001b[39;00m\n\u001b[1;32m---> 16\u001b[0m     clause \u001b[38;5;241m=\u001b[39m random\u001b[38;5;241m.\u001b[39msample(\u001b[38;5;28mrange\u001b[39m(\u001b[38;5;241m1\u001b[39m, num_variables \u001b[38;5;241m+\u001b[39m \u001b[38;5;241m1\u001b[39m), \u001b[38;5;241m3\u001b[39m)\n\u001b[0;32m     18\u001b[0m     \u001b[38;5;66;03m# Add negation with equal probability\u001b[39;00m\n\u001b[0;32m     19\u001b[0m     clause \u001b[38;5;241m=\u001b[39m [i \u001b[38;5;28;01mif\u001b[39;00m random\u001b[38;5;241m.\u001b[39mchoice([\u001b[38;5;28;01mTrue\u001b[39;00m, \u001b[38;5;28;01mFalse\u001b[39;00m]) \u001b[38;5;28;01melse\u001b[39;00m \u001b[38;5;241m-\u001b[39mi \u001b[38;5;28;01mfor\u001b[39;00m i \u001b[38;5;129;01min\u001b[39;00m clause]\n",
      "\u001b[1;31mNameError\u001b[0m: name 'random' is not defined"
     ]
    }
   ],
   "source": [
    "generate_dimacs_cnf(4)"
   ]
  },
  {
   "cell_type": "code",
   "execution_count": null,
   "id": "5204d250-d828-41dd-92df-05c56bf35b96",
   "metadata": {},
   "outputs": [],
   "source": []
  }
 ],
 "metadata": {
  "kernelspec": {
   "display_name": "Python 3 (ipykernel)",
   "language": "python",
   "name": "python3"
  },
  "language_info": {
   "codemirror_mode": {
    "name": "ipython",
    "version": 3
   },
   "file_extension": ".py",
   "mimetype": "text/x-python",
   "name": "python",
   "nbconvert_exporter": "python",
   "pygments_lexer": "ipython3",
   "version": "3.11.4"
  },
  "widgets": {
   "application/vnd.jupyter.widget-state+json": {
    "state": {
     "0ab107e63f754df780b874aace6d6ad8": {
      "model_module": "@jupyter-widgets/controls",
      "model_module_version": "2.0.0",
      "model_name": "HTMLStyleModel",
      "state": {
       "description_width": "",
       "font_size": null,
       "text_color": null
      }
     },
     "14808452ae734a5ca12aee35c0eb81c2": {
      "model_module": "@jupyter-widgets/base",
      "model_module_version": "2.0.0",
      "model_name": "LayoutModel",
      "state": {}
     },
     "14cc8d517cec4150ade4ace2b23c2139": {
      "model_module": "@jupyter-widgets/controls",
      "model_module_version": "2.0.0",
      "model_name": "HTMLModel",
      "state": {
       "layout": "IPY_MODEL_1f5e6d35c3f34b3ba7868a5ae0b66a06",
       "style": "IPY_MODEL_726687380ac740eb87bfb7748ea6fe6b",
       "value": "<h5>Queue</h5>"
      }
     },
     "19f08287cf3c466c830dc38c12b0e401": {
      "model_module": "@jupyter-widgets/base",
      "model_module_version": "2.0.0",
      "model_name": "LayoutModel",
      "state": {
       "margin": "0px 0px 0px 37px",
       "width": "600px"
      }
     },
     "1f5e6d35c3f34b3ba7868a5ae0b66a06": {
      "model_module": "@jupyter-widgets/base",
      "model_module_version": "2.0.0",
      "model_name": "LayoutModel",
      "state": {
       "width": "70px"
      }
     },
     "20068225bde348918ccf7ebc040f1e49": {
      "model_module": "@jupyter-widgets/controls",
      "model_module_version": "2.0.0",
      "model_name": "HTMLModel",
      "state": {
       "layout": "IPY_MODEL_39b7a648b83f4460b0b0805b9af49f1f",
       "style": "IPY_MODEL_68b33d38684b4c8c89439201b7ef9a3a",
       "value": "<h5>Status</h5>"
      }
     },
     "201e0520f0154b489860897336e3518d": {
      "model_module": "@jupyter-widgets/controls",
      "model_module_version": "2.0.0",
      "model_name": "HTMLModel",
      "state": {
       "layout": "IPY_MODEL_26276625b4bd495e9ce2e9b45aac5ab8",
       "style": "IPY_MODEL_cd4f2c410bb7414787a8ed6409e08a89",
       "value": "<h5>Backend</h5>"
      }
     },
     "26276625b4bd495e9ce2e9b45aac5ab8": {
      "model_module": "@jupyter-widgets/base",
      "model_module_version": "2.0.0",
      "model_name": "LayoutModel",
      "state": {
       "width": "145px"
      }
     },
     "2bf40aaf25ac4834887ad2e69a01843a": {
      "model_module": "@jupyter-widgets/controls",
      "model_module_version": "2.0.0",
      "model_name": "HTMLStyleModel",
      "state": {
       "description_width": "",
       "font_size": null,
       "text_color": null
      }
     },
     "343ccece59d843caacfd33fea931b66f": {
      "model_module": "@jupyter-widgets/base",
      "model_module_version": "2.0.0",
      "model_name": "LayoutModel",
      "state": {
       "width": "190px"
      }
     },
     "37c5bf6f6434419aa5bc3b6e8613e6a0": {
      "model_module": "@jupyter-widgets/controls",
      "model_module_version": "2.0.0",
      "model_name": "ButtonModel",
      "state": {
       "button_style": "primary",
       "description": "Clear",
       "layout": "IPY_MODEL_533d3bc7f4d5441db68c08f6223abd9d",
       "style": "IPY_MODEL_69f3227c394a42e895f4f879f8cf4e49",
       "tooltip": null
      }
     },
     "39b7a648b83f4460b0b0805b9af49f1f": {
      "model_module": "@jupyter-widgets/base",
      "model_module_version": "2.0.0",
      "model_name": "LayoutModel",
      "state": {
       "width": "95px"
      }
     },
     "52e0fcdf4d1348b0833f3eabeb8deb31": {
      "model_module": "@jupyter-widgets/controls",
      "model_module_version": "2.0.0",
      "model_name": "HBoxModel",
      "state": {
       "children": [
        "IPY_MODEL_89584d13b9d84e3ab238fffc90d16736",
        "IPY_MODEL_201e0520f0154b489860897336e3518d",
        "IPY_MODEL_20068225bde348918ccf7ebc040f1e49",
        "IPY_MODEL_14cc8d517cec4150ade4ace2b23c2139",
        "IPY_MODEL_629127564c7a46ee8ec9cef6e1a07194"
       ],
       "layout": "IPY_MODEL_19f08287cf3c466c830dc38c12b0e401"
      }
     },
     "533d3bc7f4d5441db68c08f6223abd9d": {
      "model_module": "@jupyter-widgets/base",
      "model_module_version": "2.0.0",
      "model_name": "LayoutModel",
      "state": {
       "grid_area": "right",
       "padding": "0px 0px 0px 0px",
       "width": "70px"
      }
     },
     "56e9e6e36e724fb4a9819148eec38b9c": {
      "model_module": "@jupyter-widgets/controls",
      "model_module_version": "2.0.0",
      "model_name": "HTMLModel",
      "state": {
       "layout": "IPY_MODEL_cce9a8a888bb4f9fbfcbd6e546c0078a",
       "style": "IPY_MODEL_0ab107e63f754df780b874aace6d6ad8",
       "value": "<p style='font-family: IBM Plex Sans, Arial, Helvetica, sans-serif; font-size: 20px; font-weight: medium;'>Circuit Properties</p>"
      }
     },
     "629127564c7a46ee8ec9cef6e1a07194": {
      "model_module": "@jupyter-widgets/controls",
      "model_module_version": "2.0.0",
      "model_name": "HTMLModel",
      "state": {
       "layout": "IPY_MODEL_14808452ae734a5ca12aee35c0eb81c2",
       "style": "IPY_MODEL_2bf40aaf25ac4834887ad2e69a01843a",
       "value": "<h5>Message</h5>"
      }
     },
     "6544f577bc8e41fbb061d6dbadb1fc65": {
      "model_module": "@jupyter-widgets/controls",
      "model_module_version": "2.0.0",
      "model_name": "HTMLStyleModel",
      "state": {
       "description_width": "",
       "font_size": null,
       "text_color": null
      }
     },
     "68b33d38684b4c8c89439201b7ef9a3a": {
      "model_module": "@jupyter-widgets/controls",
      "model_module_version": "2.0.0",
      "model_name": "HTMLStyleModel",
      "state": {
       "description_width": "",
       "font_size": null,
       "text_color": null
      }
     },
     "69f3227c394a42e895f4f879f8cf4e49": {
      "model_module": "@jupyter-widgets/controls",
      "model_module_version": "2.0.0",
      "model_name": "ButtonStyleModel",
      "state": {
       "font_family": null,
       "font_size": null,
       "font_style": null,
       "font_variant": null,
       "font_weight": null,
       "text_color": null,
       "text_decoration": null
      }
     },
     "6f48b342804145b9a3bdd233e98e110d": {
      "model_module": "@jupyter-widgets/base",
      "model_module_version": "2.0.0",
      "model_name": "LayoutModel",
      "state": {
       "grid_template_areas": "\n                                       \". . . . right \"\n                                        ",
       "grid_template_columns": "20% 20% 20% 20% 20%",
       "width": "100%"
      }
     },
     "726687380ac740eb87bfb7748ea6fe6b": {
      "model_module": "@jupyter-widgets/controls",
      "model_module_version": "2.0.0",
      "model_name": "HTMLStyleModel",
      "state": {
       "description_width": "",
       "font_size": null,
       "text_color": null
      }
     },
     "89584d13b9d84e3ab238fffc90d16736": {
      "model_module": "@jupyter-widgets/controls",
      "model_module_version": "2.0.0",
      "model_name": "HTMLModel",
      "state": {
       "layout": "IPY_MODEL_343ccece59d843caacfd33fea931b66f",
       "style": "IPY_MODEL_6544f577bc8e41fbb061d6dbadb1fc65",
       "value": "<h5>Job ID</h5>"
      }
     },
     "aa503280856442388b4a6990b6906ce5": {
      "model_module": "@jupyter-widgets/controls",
      "model_module_version": "2.0.0",
      "model_name": "GridBoxModel",
      "state": {
       "children": [
        "IPY_MODEL_37c5bf6f6434419aa5bc3b6e8613e6a0"
       ],
       "layout": "IPY_MODEL_6f48b342804145b9a3bdd233e98e110d"
      }
     },
     "cce9a8a888bb4f9fbfcbd6e546c0078a": {
      "model_module": "@jupyter-widgets/base",
      "model_module_version": "2.0.0",
      "model_name": "LayoutModel",
      "state": {
       "margin": "0px 0px 10px 0px"
      }
     },
     "cd4f2c410bb7414787a8ed6409e08a89": {
      "model_module": "@jupyter-widgets/controls",
      "model_module_version": "2.0.0",
      "model_name": "HTMLStyleModel",
      "state": {
       "description_width": "",
       "font_size": null,
       "text_color": null
      }
     }
    },
    "version_major": 2,
    "version_minor": 0
   }
  }
 },
 "nbformat": 4,
 "nbformat_minor": 5
}
